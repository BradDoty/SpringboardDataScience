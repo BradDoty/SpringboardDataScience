{
 "cells": [
  {
   "cell_type": "markdown",
   "metadata": {},
   "source": [
    "This exercise will require you to pull some data from the Quandl API. Quandl is currently the most widely used aggregator of financial market data."
   ]
  },
  {
   "cell_type": "markdown",
   "metadata": {},
   "source": [
    "As a first step, you will need to register a free account on the http://www.quandl.com website."
   ]
  },
  {
   "cell_type": "markdown",
   "metadata": {},
   "source": [
    "After you register, you will be provided with a unique API key, that you should store:"
   ]
  },
  {
   "cell_type": "code",
   "execution_count": 1,
   "metadata": {},
   "outputs": [],
   "source": [
    "# Store the API key as a string - according to PEP8, constants are always named in all upper case\n",
    "API_KEY = 'XXXXXXXXXXXXXXXXXXXX'"
   ]
  },
  {
   "cell_type": "markdown",
   "metadata": {},
   "source": [
    "Qaundl has a large number of data sources, but, unfortunately, most of them require a Premium subscription. Still, there are also a good number of free datasets."
   ]
  },
  {
   "cell_type": "markdown",
   "metadata": {},
   "source": [
    "For this mini project, we will focus on equities data from the Frankfurt Stock Exhange (FSE), which is available for free. We'll try and analyze the stock prices of a company called Carl Zeiss Meditec, which manufactures tools for eye examinations, as well as medical lasers for laser eye surgery: https://www.zeiss.com/meditec/int/home.html. The company is listed under the stock ticker AFX_X."
   ]
  },
  {
   "cell_type": "markdown",
   "metadata": {},
   "source": [
    "You can find the detailed Quandl API instructions here: https://docs.quandl.com/docs/time-series"
   ]
  },
  {
   "cell_type": "markdown",
   "metadata": {},
   "source": [
    "While there is a dedicated Python package for connecting to the Quandl API, we would prefer that you use the *requests* package, which can be easily downloaded using *pip* or *conda*. You can find the documentation for the package here: http://docs.python-requests.org/en/master/ "
   ]
  },
  {
   "cell_type": "markdown",
   "metadata": {},
   "source": [
    "Finally, apart from the *requests* package, you are encouraged to not use any third party Python packages, such as *pandas*, and instead focus on what's available in the Python Standard Library (the *collections* module might come in handy: https://pymotw.com/3/collections/ ).\n",
    "Also, since you won't have access to DataFrames, you are encouraged to us Python's native data structures - preferably dictionaries, though some questions can also be answered using lists.\n",
    "You can read more on these data structures here: https://docs.python.org/3/tutorial/datastructures.html"
   ]
  },
  {
   "cell_type": "markdown",
   "metadata": {},
   "source": [
    "Keep in mind that the JSON responses you will be getting from the API map almost one-to-one to Python's dictionaries. Unfortunately, they can be very nested, so make sure you read up on indexing dictionaries in the documentation provided above."
   ]
  },
  {
   "cell_type": "code",
   "execution_count": 4,
   "metadata": {},
   "outputs": [],
   "source": [
    "# First, import the relevant modules\n",
    "import requests"
   ]
  },
  {
   "cell_type": "code",
   "execution_count": 43,
   "metadata": {},
   "outputs": [],
   "source": [
    "# Now, call the Quandl API and pull out a small sample of the data (only one day) to get a glimpse\n",
    "# into the JSON structure that will be returned\n",
    "quandl.ApiConfig.api_key = API_KEY\n",
    "#data = quandl.get(\"FSE/AFX_X\", start_date=\"2017-01-01\", end_date=\"2017-01-30\")\n",
    "#print(data.info())\n",
    "\n",
    "TKR = 'AFX_X'\n",
    "url = \"https://www.quandl.com/api/v3/datasets/FSE/%s/data.json?api_key=%s\" % (TKR,API_KEY)\n",
    "date_range = '&start_date=2017-01-01&end_date=2017-01-10'\n",
    "results = requests.get(url+date_range).json()"
   ]
  },
  {
   "cell_type": "code",
   "execution_count": 44,
   "metadata": {},
   "outputs": [
    {
     "name": "stdout",
     "output_type": "stream",
     "text": [
      "<class 'dict'>\n",
      "{'dataset_data': {'limit': None, 'transform': None, 'column_index': None, 'column_names': ['Date', 'Open', 'High', 'Low', 'Close', 'Change', 'Traded Volume', 'Turnover', 'Last Price of the Day', 'Daily Traded Units', 'Daily Turnover'], 'start_date': '2017-01-01', 'end_date': '2017-01-10', 'frequency': 'daily', 'data': [['2017-01-10', 34.8, 34.98, 34.46, 34.91, None, 43976.0, 1528055.0, None, None, None], ['2017-01-09', 35.29, 35.35, 34.43, 34.67, None, 62225.0, 2157182.0, None, None, None], ['2017-01-06', 34.91, 35.21, 34.91, 35.04, None, 27507.0, 964046.0, None, None, None], ['2017-01-05', 35.02, 35.2, 34.73, 35.06, None, 48412.0, 1692326.0, None, None, None], ['2017-01-04', 35.48, 35.51, 34.75, 35.19, None, 54408.0, 1906810.0, None, None, None], ['2017-01-03', 35.9, 35.93, 35.34, 35.48, None, 70618.0, 2515473.0, None, None, None], ['2017-01-02', 34.99, 35.94, 34.99, 35.8, None, 44700.0, 1590561.0, None, None, None]], 'collapse': None, 'order': None}}\n"
     ]
    }
   ],
   "source": [
    "# Inspect the JSON structure of the object you created, and take note of how nested it is,\n",
    "# as well as the overall structure\n",
    "print (type(results))\n",
    "print (results)"
   ]
  },
  {
   "cell_type": "markdown",
   "metadata": {},
   "source": [
    "These are your tasks for this mini project:\n",
    "\n",
    "1. Collect data from the Franfurt Stock Exchange, for the ticker AFX_X, for the whole year 2017 (keep in mind that the date format is YYYY-MM-DD).\n",
    "2. Convert the returned JSON object into a Python dictionary.\n",
    "3. Calculate what the highest and lowest opening prices were for the stock in this period.\n",
    "4. What was the largest change in any one day (based on High and Low price)?\n",
    "5. What was the largest change between any two days (based on Closing Price)?\n",
    "6. What was the average daily trading volume during this year?\n",
    "7. (Optional) What was the median trading volume during this year. (Note: you may need to implement your own function for calculating the median.)"
   ]
  },
  {
   "cell_type": "code",
   "execution_count": 77,
   "metadata": {},
   "outputs": [
    {
     "name": "stdout",
     "output_type": "stream",
     "text": [
      "<class 'dict'> \n",
      "\n",
      "Highest Opening price = 53.11, Lowest Opening price = 34.0\n"
     ]
    }
   ],
   "source": [
    "## Step 1\n",
    "date_range = '&start_date=2017-01-01&end_date=2017-12-31'\n",
    "results = requests.get(url+date_range)\n",
    "\n",
    "## Step 2 results.json() already returns a Python dictionary.  Move the json() call down to here.\n",
    "print(type(results.json()),'\\n')\n",
    "AFX = results.json()\n",
    "\n",
    "## Step 3 Highest and Lowest openings\n",
    "list_of_lists = AFX['dataset_data']['data']\n",
    "#print(list_of_lists)\n",
    "max_open = 0.0\n",
    "min_open = 100000.0\n",
    "for l in list_of_lists:   ## By inspection of the 'column_names', we see Open is the second item in each day's list\n",
    "    Open = l[1]\n",
    "    #print (l)\n",
    "    try:\n",
    "        if Open > max_open:\n",
    "            max_open = Open\n",
    "        if Open < min_open:\n",
    "            min_open = Open\n",
    "    except TypeError:\n",
    "        pass\n",
    "print (\"Highest Opening price = {}, Lowest Opening price = {}\".format(max_open, min_open))"
   ]
  },
  {
   "cell_type": "code",
   "execution_count": 81,
   "metadata": {},
   "outputs": [
    {
     "name": "stdout",
     "output_type": "stream",
     "text": [
      "Max intraday swing = 2.81\n"
     ]
    }
   ],
   "source": [
    "## Step 4 Biggest intraday swing\n",
    "max_swing = 0\n",
    "for l in list_of_lists:\n",
    "    ## By inspection of column_names, High is third (#2) item and Low is the fourth (#3).\n",
    "    try:\n",
    "        swing = l[2] - l[3]\n",
    "        if swing > max_swing:\n",
    "            max_swing = swing\n",
    "    except TypeError:\n",
    "        pass\n",
    "print (\"Max intraday swing = {}\".format(round(max_swing,2)))"
   ]
  },
  {
   "cell_type": "code",
   "execution_count": 83,
   "metadata": {},
   "outputs": [
    {
     "name": "stdout",
     "output_type": "stream",
     "text": [
      "Max daily swing = 2.56\n"
     ]
    }
   ],
   "source": [
    "## Step 5 Biggest closing-to-closing swing\n",
    "max_swing = 0\n",
    "prev_close = None\n",
    "for l in list_of_lists:\n",
    "    ## By inspection of column_names, Close is fifth (#4) item.\n",
    "    close = l[4]\n",
    "    try:\n",
    "        swing = close - prev_close\n",
    "        if swing > max_swing:\n",
    "            max_swing = swing\n",
    "    except TypeError:\n",
    "        swing = 0\n",
    "    prev_close = close\n",
    "    \n",
    "print (\"Max daily swing = {}\".format(round(max_swing,2)))"
   ]
  },
  {
   "cell_type": "code",
   "execution_count": 97,
   "metadata": {},
   "outputs": [
    {
     "name": "stdout",
     "output_type": "stream",
     "text": [
      "Average daily trading volume = 89124.3\n"
     ]
    }
   ],
   "source": [
    "volumes = [l[6] for l in list_of_lists if l[6] is not None]\n",
    "print(\"Average daily trading volume = {}\".format(round(sum(volumes) / len(volumes), 1)))"
   ]
  },
  {
   "cell_type": "code",
   "execution_count": 99,
   "metadata": {},
   "outputs": [
    {
     "name": "stdout",
     "output_type": "stream",
     "text": [
      "Median daily trading volume = 76286.0\n"
     ]
    }
   ],
   "source": [
    "volumes.sort()\n",
    "mid = len(volumes) // 2\n",
    "print(\"Median daily trading volume = {}\".format(round((volumes[mid] + volumes[~mid]) / 2, 1)))"
   ]
  }
 ],
 "metadata": {
  "kernelspec": {
   "display_name": "Python 3",
   "language": "python",
   "name": "python3"
  },
  "language_info": {
   "codemirror_mode": {
    "name": "ipython",
    "version": 3
   },
   "file_extension": ".py",
   "mimetype": "text/x-python",
   "name": "python",
   "nbconvert_exporter": "python",
   "pygments_lexer": "ipython3",
   "version": "3.8.5"
  }
 },
 "nbformat": 4,
 "nbformat_minor": 2
}
