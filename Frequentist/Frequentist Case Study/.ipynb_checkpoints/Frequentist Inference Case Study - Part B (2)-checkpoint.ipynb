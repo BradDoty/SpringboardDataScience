{
 "cells": [
  {
   "cell_type": "markdown",
   "metadata": {},
   "source": [
    "# Frequentist Inference Case Study - Part B"
   ]
  },
  {
   "cell_type": "markdown",
   "metadata": {},
   "source": [
    "## Learning objectives"
   ]
  },
  {
   "cell_type": "markdown",
   "metadata": {},
   "source": [
    "Welcome to Part B of the Frequentist inference case study! The purpose of this case study is to help you apply the concepts associated with Frequentist inference in Python. In particular, you'll practice writing Python code to apply the following statistical concepts: \n",
    "* the _z_-statistic\n",
    "* the _t_-statistic\n",
    "* the difference and relationship between the two\n",
    "* the Central Limit Theorem, including its assumptions and consequences\n",
    "* how to estimate the population mean and standard deviation from a sample\n",
    "* the concept of a sampling distribution of a test statistic, particularly for the mean\n",
    "* how to combine these concepts to calculate a confidence interval"
   ]
  },
  {
   "cell_type": "markdown",
   "metadata": {},
   "source": [
    "In the previous notebook, we used only data from a known normal distribution. **You'll now tackle real data, rather than simulated data, and answer some relevant real-world business problems using the data.**"
   ]
  },
  {
   "cell_type": "markdown",
   "metadata": {},
   "source": [
    "## Hospital medical charges"
   ]
  },
  {
   "cell_type": "markdown",
   "metadata": {},
   "source": [
    "Imagine that a hospital has hired you as their data scientist. An administrator is working on the hospital's business operations plan and needs you to help them answer some business questions. \n",
    "\n",
    "In this assignment notebook, you're going to use frequentist statistical inference on a data sample to answer the questions:\n",
    "* has the hospital's revenue stream fallen below a key threshold?\n",
    "* are patients with insurance really charged different amounts than those without?\n",
    "\n",
    "Answering that last question with a frequentist approach makes some assumptions, and requires some knowledge, about the two groups."
   ]
  },
  {
   "cell_type": "markdown",
   "metadata": {},
   "source": [
    "We are going to use some data on medical charges obtained from [Kaggle](https://www.kaggle.com/easonlai/sample-insurance-claim-prediction-dataset). \n",
    "\n",
    "For the purposes of this exercise, assume the observations are the result of random sampling from our single hospital. Recall that in the previous assignment, we introduced the Central Limit Theorem (CLT), and its consequence that the distributions of sample statistics approach a normal distribution as $n$ increases. The amazing thing about this is that it applies to the sampling distributions of statistics that have been calculated from even highly non-normal distributions of data! Recall, also, that hypothesis testing is very much based on making inferences about such sample statistics. You're going to rely heavily on the CLT to apply frequentist (parametric) tests to answer the questions in this notebook."
   ]
  },
  {
   "cell_type": "code",
   "execution_count": 46,
   "metadata": {},
   "outputs": [],
   "source": [
    "import pandas as pd\n",
    "import numpy as np\n",
    "import matplotlib.pyplot as plt\n",
    "from scipy.stats import t\n",
    "from numpy.random import seed\n",
    "medical = pd.read_csv('data/insurance2.csv')"
   ]
  },
  {
   "cell_type": "code",
   "execution_count": 3,
   "metadata": {},
   "outputs": [
    {
     "data": {
      "text/plain": [
       "(1338, 8)"
      ]
     },
     "execution_count": 3,
     "metadata": {},
     "output_type": "execute_result"
    }
   ],
   "source": [
    "medical.shape"
   ]
  },
  {
   "cell_type": "code",
   "execution_count": 4,
   "metadata": {},
   "outputs": [
    {
     "data": {
      "text/html": [
       "<div>\n",
       "<style scoped>\n",
       "    .dataframe tbody tr th:only-of-type {\n",
       "        vertical-align: middle;\n",
       "    }\n",
       "\n",
       "    .dataframe tbody tr th {\n",
       "        vertical-align: top;\n",
       "    }\n",
       "\n",
       "    .dataframe thead th {\n",
       "        text-align: right;\n",
       "    }\n",
       "</style>\n",
       "<table border=\"1\" class=\"dataframe\">\n",
       "  <thead>\n",
       "    <tr style=\"text-align: right;\">\n",
       "      <th></th>\n",
       "      <th>age</th>\n",
       "      <th>sex</th>\n",
       "      <th>bmi</th>\n",
       "      <th>children</th>\n",
       "      <th>smoker</th>\n",
       "      <th>region</th>\n",
       "      <th>charges</th>\n",
       "      <th>insuranceclaim</th>\n",
       "    </tr>\n",
       "  </thead>\n",
       "  <tbody>\n",
       "    <tr>\n",
       "      <th>0</th>\n",
       "      <td>19</td>\n",
       "      <td>0</td>\n",
       "      <td>27.900</td>\n",
       "      <td>0</td>\n",
       "      <td>1</td>\n",
       "      <td>3</td>\n",
       "      <td>16884.92400</td>\n",
       "      <td>1</td>\n",
       "    </tr>\n",
       "    <tr>\n",
       "      <th>1</th>\n",
       "      <td>18</td>\n",
       "      <td>1</td>\n",
       "      <td>33.770</td>\n",
       "      <td>1</td>\n",
       "      <td>0</td>\n",
       "      <td>2</td>\n",
       "      <td>1725.55230</td>\n",
       "      <td>1</td>\n",
       "    </tr>\n",
       "    <tr>\n",
       "      <th>2</th>\n",
       "      <td>28</td>\n",
       "      <td>1</td>\n",
       "      <td>33.000</td>\n",
       "      <td>3</td>\n",
       "      <td>0</td>\n",
       "      <td>2</td>\n",
       "      <td>4449.46200</td>\n",
       "      <td>0</td>\n",
       "    </tr>\n",
       "    <tr>\n",
       "      <th>3</th>\n",
       "      <td>33</td>\n",
       "      <td>1</td>\n",
       "      <td>22.705</td>\n",
       "      <td>0</td>\n",
       "      <td>0</td>\n",
       "      <td>1</td>\n",
       "      <td>21984.47061</td>\n",
       "      <td>0</td>\n",
       "    </tr>\n",
       "    <tr>\n",
       "      <th>4</th>\n",
       "      <td>32</td>\n",
       "      <td>1</td>\n",
       "      <td>28.880</td>\n",
       "      <td>0</td>\n",
       "      <td>0</td>\n",
       "      <td>1</td>\n",
       "      <td>3866.85520</td>\n",
       "      <td>1</td>\n",
       "    </tr>\n",
       "  </tbody>\n",
       "</table>\n",
       "</div>"
      ],
      "text/plain": [
       "   age  sex     bmi  children  smoker  region      charges  insuranceclaim\n",
       "0   19    0  27.900         0       1       3  16884.92400               1\n",
       "1   18    1  33.770         1       0       2   1725.55230               1\n",
       "2   28    1  33.000         3       0       2   4449.46200               0\n",
       "3   33    1  22.705         0       0       1  21984.47061               0\n",
       "4   32    1  28.880         0       0       1   3866.85520               1"
      ]
     },
     "execution_count": 4,
     "metadata": {},
     "output_type": "execute_result"
    }
   ],
   "source": [
    "medical.head()"
   ]
  },
  {
   "cell_type": "markdown",
   "metadata": {},
   "source": [
    "__Q1:__ Plot the histogram of charges and calculate the mean and standard deviation. Comment on the appropriateness of these statistics for the data."
   ]
  },
  {
   "cell_type": "markdown",
   "metadata": {},
   "source": [
    "__A:__  Since this is not the whole \"metaphorical\" population of all charge data for this hospital, but just a sample, we should use the sample standard deviation, with Bessel's Correction.  \n",
    "\n",
    "The histogram looks like a gamma or exponential distribution, but increasing the number of bins highlights that the mid-section of the distribution is considerably smaller than it would be for a smooth gamma distribution.\n",
    "\n",
    "The mean is at $13,270, right where the fat left side plunges to the lower counts on the right side."
   ]
  },
  {
   "cell_type": "code",
   "execution_count": 21,
   "metadata": {},
   "outputs": [
    {
     "data": {
      "image/png": "[encoded data removed]",
      "text/plain": [
       "<Figure size 432x288 with 1 Axes>"
      ]
     },
     "metadata": {
      "needs_background": "light"
     },
     "output_type": "display_data"
    }
   ],
   "source": [
    "medical.hist(\"charges\", bins=60)\n",
    "plt.show()"
   ]
  },
  {
   "cell_type": "code",
   "execution_count": 31,
   "metadata": {},
   "outputs": [
    {
     "name": "stdout",
     "output_type": "stream",
     "text": [
      "Sample mean = $ 13270.42\n",
      "Sample std dev (don't use) is  12105.48\n",
      "Population std deviation based on the sample = $ 12110.01\n",
      "Sample median = $ 9382.03\n"
     ]
    }
   ],
   "source": [
    "print(\"Sample mean = $\", round(np.mean(medical.charges),2))\n",
    "print(\"Sample std dev (don't use) is \", round(np.std(medical.charges),2))\n",
    "print(\"Population std deviation based on the sample = $\", round(np.std(medical.charges, ddof=1),2))\n",
    "print(\"Sample median = $\", round(np.median(medical.charges),2))"
   ]
  },
  {
   "cell_type": "markdown",
   "metadata": {},
   "source": [
    "__Q2:__ The administrator is concerned that the actual average charge has fallen below 12,000, threatening the hospital's operational model. On the assumption that these data represent a random sample of charges, how would you justify that these data allow you to answer that question? And what would be the most appropriate frequentist test, of the ones discussed so far, to apply?"
   ]
  },
  {
   "cell_type": "markdown",
   "metadata": {},
   "source": [
    "__A:__ The sample mean (average) is at 13,270, a good bit above 12,000, but the standard deviation estimate is 91% of the mean, at 12,110.   So a good chunk of the charges are less than 12,000.  Furthermore the median charge is only 9382.  A relatively small number of charges above 33,000 are keeping the average a good deal larger than the median.\n",
    "\n",
    "The distribution is far from a normal or even lognormal distribution, but we can use \"bootstrapping\" (re-sampling with replacement) to analyze the distribution of the mean.  The question is \"Are we 95% confident the population mean is not below $12,000?\"\n",
    "\n",
    "\n",
    "\n"
   ]
  },
  {
   "cell_type": "markdown",
   "metadata": {},
   "source": [
    "__Q3:__ Given the nature of the administrator's concern, what is the appropriate confidence interval in this case? A ***one-sided*** or ***two-sided*** interval? (Refresh your understanding of this concept on p. 399 of the *AoS*). Calculate the critical value and the relevant 95% confidence interval for the mean, and comment on whether the administrator should be concerned."
   ]
  },
  {
   "cell_type": "markdown",
   "metadata": {},
   "source": [
    "__A:__  The administrator is worried about the average falling below a threshold of 12,000.  The average getting too large is not a concern, so we should do a one-sided interval:  \"Does the one-sided 95% confidence interval, removing the left tail, include 12,000?\""
   ]
  },
  {
   "cell_type": "code",
   "execution_count": 45,
   "metadata": {},
   "outputs": [
    {
     "data": {
      "image/png": "[encoded data removed]",
      "text/plain": [
       "<Figure size 432x288 with 6 Axes>"
      ]
     },
     "execution_count": 45,
     "metadata": {},
     "output_type": "execute_result"
    },
    {
     "data": {
      "image/png": "[encoded data removed]",
      "text/plain": [
       "<Figure size 432x288 with 6 Axes>"
      ]
     },
     "metadata": {
      "needs_background": "light"
     },
     "output_type": "display_data"
    }
   ],
   "source": [
    "## Conveniently, Pandas already does bootstrapping and plots the results for me!\n",
    "## \"midrange\" is half the range from max to min\n",
    "pd.plotting.bootstrap_plot(medical.charges, size=200, samples=200)\n",
    "## If I increase the size to 500 (of 1338 possible), \n",
    "##   the distribution of the sample means gets so tight that 12,000 is at the very left edge.\n",
    "## Not sure what that means, so let's do the bootstrapping manually.\n",
    "## Also, the bootstrap plot is annoyingly displaying twice."
   ]
  },
  {
   "cell_type": "code",
   "execution_count": 128,
   "metadata": {},
   "outputs": [
    {
     "name": "stdout",
     "output_type": "stream",
     "text": [
      "5th percentile: $11920.87\n",
      "$12,000 Minium: $12003.68: 5.6%\n",
      "Estimated mean =  13283.78 Std Error on mean estimate =  854.95\n",
      "One sigma below estimated mean = $ 12428.82\n"
     ]
    },
    {
     "data": {
      "image/png": "[encoded data removed]",
      "text/plain": [
       "<Figure size 432x288 with 1 Axes>"
      ]
     },
     "metadata": {
      "needs_background": "light"
     },
     "output_type": "display_data"
    }
   ],
   "source": [
    "## Manual bootstrapping, with plots of distributions of sample means, std errors and medians\n",
    "samples=500\n",
    "size=200\n",
    "seed(47)\n",
    "mean=[]\n",
    "std_dev=[]\n",
    "median=[]\n",
    "\n",
    "for i in range(samples):\n",
    "    bootstrapi = []\n",
    "    for j in range(size):\n",
    "        bootstrapi.append(np.random.choice(medical.charges, replace=True))\n",
    "    mean.append(np.mean(bootstrapi))  \n",
    "    std_dev.append(np.std(bootstrapi, ddof=1))\n",
    "    median.append(np.median(bootstrapi))\n",
    "    \n",
    "pctile5 = np.percentile(mean, 5)\n",
    "print(\"5th percentile: $%.2f\" % pctile5)\n",
    "min_pct = 5.6\n",
    "pctileMin = np.percentile(mean, min_pct)\n",
    "print(\"$12,000 Minium: $%.2f: %.1f%%\" % (pctileMin, min_pct))\n",
    "\n",
    "mean_of_means = np.mean(mean)\n",
    "sigma_of_means= np.std(mean)\n",
    "\n",
    "fig, ax = plt.subplots()\n",
    "\n",
    "n, bins, patches = ax.hist(mean, bins=40)\n",
    "print(\"Estimated mean = \", round(mean_of_means, 2), \"Std Error on mean estimate = \", round(sigma_of_means, 2))\n",
    "print(\"One sigma below estimated mean = $\", round((mean_of_means - sigma_of_means), 2))\n",
    "\n",
    "# add a 'best fit' line\n",
    "y = 65000 * ((1 / (np.sqrt(2 * np.pi) * sigma_of_means)) *\n",
    "     np.exp(-0.5 * (1 / sigma_of_means * (bins - mean_of_means))**2))\n",
    "ax.plot(bins, y, '--')\n",
    "ax.set_xlabel('Mean Charge ($)')\n",
    "ax.set_ylabel('Number of Samplings out of %d total' % samples)\n",
    "ax.set_title('Bootstrapped Sample Means in samples of size %d' % size) \n",
    "ax.vlines(x=pctile5, ymin=0, ymax=25, label='95%', color='orange')\n",
    "ax.vlines(x=pctileMin, ymin=0, ymax=25, label='Min', color='red')\n",
    "plt.show()"
   ]
  },
  {
   "cell_type": "markdown",
   "metadata": {},
   "source": [
    "No, we are not 95% confident that our average charge is $12,000 or greater.  \n",
    "* The orange line shows our critical value for the 95\\% confidence interval, at 11,920.87\n",
    "    \n",
    "But we are 94.4\\% confident that it is.\n",
    "* The red line shows the 5.6th percentile charge at $12,003.68\n",
    "\n"
   ]
  },
  {
   "cell_type": "code",
   "execution_count": 134,
   "metadata": {},
   "outputs": [
    {
     "data": {
      "image/png": "[encoded data removed]",
      "text/plain": [
       "<Figure size 432x288 with 3 Axes>"
      ]
     },
     "metadata": {
      "needs_background": "light"
     },
     "output_type": "display_data"
    }
   ],
   "source": [
    "fig, (ax1, ax2, ax3) = plt.subplots(3, sharex = True, sharey = True)\n",
    "fig.suptitle('Bootstrapped Sample Means, Std Errors and Medians in samples of size %d' % size)\n",
    "\n",
    "ax1.hist(mean, bins=40)\n",
    "ax1.set(xlabel='Estimated Mean of Charges ($)')\n",
    "\n",
    "ax2.hist(std_dev, bins=40)\n",
    "ax2.set(xlabel='Std Error of Mean Charges ($)', ylabel='Number of Samplings out of %d total' % samples)\n",
    "\n",
    "ax3.hist(median, bins=40)\n",
    "ax3.set(xlabel='Median of Mean Charges ($)')\n",
    "plt.show()\n",
    "\n",
    "\n",
    "\n"
   ]
  },
  {
   "cell_type": "markdown",
   "metadata": {},
   "source": [
    "To reiterate, based on our sample of 1388 charges, the mean charge is near \\$13,280.  We have 94.4% confidence that the mean charge is at least 12,000.  Our median is well below that, somewhere near 9,000 to 10,000.  We have several very large charges, in the 35 - 60,000 range which pull the average up to the 12 - 15,000 range. "
   ]
  },
  {
   "cell_type": "markdown",
   "metadata": {},
   "source": [
    "## Problem 2.  Hypothesis Testing, are insured patients charged differently?"
   ]
  },
  {
   "cell_type": "markdown",
   "metadata": {},
   "source": [
    "The administrator then wants to know whether people with insurance really are charged a different amount to those without.\n",
    "\n",
    "__Q4:__ State the null and alternative hypothesis here. Use the _t_-test for the difference between means, where the pooled standard deviation of the two groups is given by:\n",
    "\\begin{equation}\n",
    "s_p = \\sqrt{\\frac{(n_0 - 1)s^2_0 + (n_1 - 1)s^2_1}{n_0 + n_1 - 2}}\n",
    "\\end{equation}\n",
    "\n",
    "and the *t*-test statistic is then given by:\n",
    "\n",
    "\\begin{equation}\n",
    "t = \\frac{\\bar{x}_0 - \\bar{x}_1}{s_p \\sqrt{1/n_0 + 1/n_1}}.\n",
    "\\end{equation}\n",
    "\n",
    "(If you need some reminding of the general definition of ***t-statistic***, check out the definition on p. 404 of *AoS*). \n",
    "\n",
    "What assumption about the variances of the two groups are we making here?"
   ]
  },
  {
   "cell_type": "markdown",
   "metadata": {},
   "source": [
    "__A:__The null hypothesis is that patients with insurance are charged the same as those without.  Since we cannot get data to compare like charges against each other, we will have to go by the overall mean charge for insured and uninsured patients.  \n",
    "\n",
    "The alternative hypothesis is that the mean charge for insured patients is significantly different from uninsured patients, either higher or lower (2-sided).\n",
    "\n",
    "We are making the assumption that the variances of the insured and insured patient charges are equal.\n",
    "\n"
   ]
  },
  {
   "cell_type": "markdown",
   "metadata": {},
   "source": [
    "__Q5:__ Perform this hypothesis test both manually, using the above formulae, and then using the appropriate function from [scipy.stats](https://docs.scipy.org/doc/scipy/reference/stats.html#statistical-tests) (hint, you're looking for a function to perform a _t_-test on two independent samples). For the manual approach, calculate the value of the test statistic and then its probability (the p-value). Verify you get the same results from both."
   ]
  },
  {
   "cell_type": "markdown",
   "metadata": {},
   "source": [
    "__A:__ "
   ]
  },
  {
   "cell_type": "code",
   "execution_count": 159,
   "metadata": {},
   "outputs": [
    {
     "name": "stdout",
     "output_type": "stream",
     "text": [
      "Insured data: <bound method DataFrame.info of           charges\n",
      "0     16884.92400\n",
      "1      1725.55230\n",
      "4      3866.85520\n",
      "6      8240.58960\n",
      "10     2721.32080\n",
      "...           ...\n",
      "1330  12629.16560\n",
      "1331  10795.93733\n",
      "1334   2205.98080\n",
      "1335   1629.83350\n",
      "1337  29141.36030\n",
      "\n",
      "[783 rows x 1 columns]> \n",
      "Insured mean and std:  charges    16423.928277\n",
      "dtype: float64 charges    14045.928419\n",
      "dtype: float64 \n",
      "\n",
      "Uninsured data: <bound method DataFrame.info of           charges\n",
      "2      4449.46200\n",
      "3     21984.47061\n",
      "5      3756.62160\n",
      "7      7281.50560\n",
      "8      6406.41070\n",
      "...           ...\n",
      "1324   4239.89265\n",
      "1328  22395.74424\n",
      "1332  11411.68500\n",
      "1333  10600.54830\n",
      "1336   2007.94500\n",
      "\n",
      "[555 rows x 1 columns]> \n",
      "Uninsured mean and std:  charges    8821.421892\n",
      "dtype: float64 charges    6446.510127\n",
      "dtype: float64\n"
     ]
    }
   ],
   "source": [
    "## Split the data into insured and uninsured groups\n",
    "#df.loc[df['shield'] > 6, ['max_speed']]\n",
    "insured   = medical.loc[medical[\"insuranceclaim\"]==1, ['charges']]\n",
    "uninsured = medical.loc[medical[\"insuranceclaim\"]==0, ['charges']]\n",
    "print(\"Insured data:\", insured.info, \"\\nInsured mean and std: \", insured.mean(), insured.std(), \"\\n\")\n",
    "print(\"Uninsured data:\", uninsured.info, \"\\nUninsured mean and std: \", uninsured.mean(), uninsured.std())"
   ]
  },
  {
   "cell_type": "markdown",
   "metadata": {},
   "source": [
    "* We have 783 insured patients and 555 uninsured patients.\n",
    "* Insured mean charge is \\$16,424 with 14,046 std dev\n",
    "* Uninsured mean is      \\$ 8,821 with  6,447 std dev\n",
    "* The means are very different, but the std deviations take mean - 1 sigma on both down to about \\$2400.\n"
   ]
  },
  {
   "cell_type": "code",
   "execution_count": 165,
   "metadata": {},
   "outputs": [
    {
     "name": "stdout",
     "output_type": "stream",
     "text": [
      "Number patients:  783 555 Std deviations:  14045.928418802127 6446.510126811736\n",
      "\n",
      "The pooled standard deviation =  11520.034268775256\n",
      "The t-statistic =  11.89329903087671\n"
     ]
    }
   ],
   "source": [
    "n0 = len(insured)\n",
    "n1 = len(uninsured)\n",
    "s0 = np.std(insured['charges'], ddof=1) ## the std dev of the sample WITH Bessel's Correction\n",
    "s1 = np.std(uninsured['charges'], ddof=1)\n",
    "print (\"Number patients: \", n0, n1, \"Std deviations: \", s0, s1)\n",
    "\n",
    "sp = np.sqrt(((n0 - 1)*s0**2 + (n1 - 1)*s1**2)/    \\\n",
    "             (n0 + n1 - 2))\n",
    "\n",
    "print(\"\\nThe pooled standard deviation = \", sp)\n",
    "\n",
    "mean0 = np.mean(insured['charges'])\n",
    "mean1 = np.mean(uninsured['charges'])\n",
    "\n",
    "t = (mean0 - mean1) / (sp * np.sqrt( 1/n0 + 1/n1))\n",
    "\n",
    "print(\"The t-statistic = \", t)"
   ]
  },
  {
   "cell_type": "code",
   "execution_count": 156,
   "metadata": {},
   "outputs": [
    {
     "name": "stdout",
     "output_type": "stream",
     "text": [
      "Ttest_indResult(statistic=array([11.89329903]), pvalue=array([4.46123023e-31]))\n"
     ]
    }
   ],
   "source": [
    "import scipy\n",
    "## Using scipy.stats\n",
    "print(scipy.stats.ttest_ind(insured, uninsured))"
   ]
  },
  {
   "cell_type": "markdown",
   "metadata": {},
   "source": [
    "So the T-statistic is much > 2 and the P-value is 0.  The null hypothesis is rejected!\n",
    "\n",
    "The T-statistic calculated by hand, using the biased std deviation is 11.901 and calculated by scipy is 11.893, a difference of 0.018 or less than 0.2%.  I thought that was correct, since the notation used s in the equations.  However, running it again (as it is now above), I see that Bessel's correction, the unbiased std deviation estimate, matches what scipy produced.\n",
    "\n",
    "We are charging insured patients more than uninsured patients.  (I think in real life it's the opposite because of the buying power of insurance companies.  In fact, here is a link to a study showing the uninsured are charged about 2.5 as much as insured patients.  https://www.jhsph.edu/news/news-releases/2007/anderson-hospital-charges.html)"
   ]
  },
  {
   "cell_type": "markdown",
   "metadata": {},
   "source": [
    "Congratulations! Hopefully you got the exact same numerical results. This shows that you correctly calculated the numbers by hand. Secondly, you used the correct function and saw that it's much easier to use. All you need to do is pass your data to it."
   ]
  },
  {
   "cell_type": "markdown",
   "metadata": {},
   "source": [
    "__Q6:__ Conceptual question: look through the documentation for statistical test functions in scipy.stats. You'll see the above _t_-test for a sample, but can you see an equivalent one for performing a *z*-test from a sample? Comment on your answer."
   ]
  },
  {
   "cell_type": "markdown",
   "metadata": {},
   "source": [
    "__A:__  ttest_1samp() Performs a t-test for the mean of 1 group of scores (sample).\n",
    "You give it a value in the popmean argument and it tells you whether the sample mean of the data you give it matches that mean."
   ]
  },
  {
   "cell_type": "markdown",
   "metadata": {},
   "source": [
    "## Learning outcomes"
   ]
  },
  {
   "cell_type": "markdown",
   "metadata": {},
   "source": [
    "Having completed this project notebook, you now have good hands-on experience:\n",
    "* using the central limit theorem to help you apply frequentist techniques to answer questions that pertain to very non-normally distributed data from the real world\n",
    "* performing inference using such data to answer business questions\n",
    "* forming a hypothesis and framing the null and alternative hypotheses\n",
    "* testing this using a _t_-test"
   ]
  }
 ],
 "metadata": {
  "kernelspec": {
   "display_name": "Python 3",
   "language": "python",
   "name": "python3"
  },
  "language_info": {
   "codemirror_mode": {
    "name": "ipython",
    "version": 3
   },
   "file_extension": ".py",
   "mimetype": "text/x-python",
   "name": "python",
   "nbconvert_exporter": "python",
   "pygments_lexer": "ipython3",
   "version": "3.8.5"
  }
 },
 "nbformat": 4,
 "nbformat_minor": 2
}
